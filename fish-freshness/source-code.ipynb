{
  "nbformat": 4,
  "nbformat_minor": 0,
  "metadata": {
    "colab": {
      "name": "IJAI_program.ipynb",
      "provenance": []
    },
    "kernelspec": {
      "name": "python3",
      "display_name": "Python 3"
    }
  },
  "cells": [
    {
      "cell_type": "markdown",
      "metadata": {
        "id": "Kei474bQ_mlj"
      },
      "source": [
        "# **Download Dataset**"
      ]
    },
    {
      "cell_type": "code",
      "metadata": {
        "id": "Ce95X1EMqLkd",
        "colab": {
          "base_uri": "https://localhost:8080/"
        },
        "outputId": "de41fcfe-f662-4f33-b8d2-2dd7d6618997"
      },
      "source": [
        "!gdown --id 1IM93QGxBoZDrfy7DFLfqIC7lpUDnqry0\n",
        "!unzip fish_dataset.zip"
      ],
      "execution_count": null,
      "outputs": [
        {
          "output_type": "stream",
          "text": [
            "Downloading...\n",
            "From: https://drive.google.com/uc?id=1IM93QGxBoZDrfy7DFLfqIC7lpUDnqry0\n",
            "To: /content/fish_dataset.zip\n",
            "10.7MB [00:00, 65.2MB/s]\n",
            "Archive:  fish_dataset.zip\n",
            "   creating: dataset/\n",
            "   creating: dataset/train/\n",
            "   creating: dataset/train/segar/\n",
            "  inflating: dataset/train/segar/segar_original_20200517_084015.jpg_15399d48-7d11-43cf-bed1-7d5f19707868.jpg  \n",
            "  inflating: dataset/train/segar/segar_original_20200517_084015.jpg_2b7c1733-56f0-4588-9863-67ffd6b1bb5b.jpg  \n",
            "  inflating: dataset/train/segar/segar_original_20200517_084015.jpg_56b81a41-31a0-4258-abd3-2567c3c96730.jpg  \n",
            "  inflating: dataset/train/segar/segar_original_20200517_084015.jpg_86a7f98d-1b41-4d99-ba98-7a0cd2aabe2e.jpg  \n",
            "  inflating: dataset/train/segar/segar_original_20200517_084015.jpg_886c0f4d-3389-45f9-928a-33745956ff94.jpg  \n",
            "  inflating: dataset/train/segar/segar_original_20200517_084015.jpg_9ef90575-ea89-476f-8204-90e91aff3202.jpg  \n",
            "  inflating: dataset/train/segar/segar_original_20200517_084054.jpg_3f505587-c6cd-44cc-a621-42164837444d.jpg  \n",
            "  inflating: dataset/train/segar/segar_original_20200517_084054.jpg_5a7af4f6-21cb-4abd-9784-371e923dd204.jpg  \n",
            "  inflating: dataset/train/segar/segar_original_20200517_084054.jpg_5b0180d2-2867-4217-96f5-e545e6d5c46e.jpg  \n",
            "  inflating: dataset/train/segar/segar_original_20200517_084054.jpg_60cc0b60-ec81-4869-922c-708a272e47f9.jpg  \n",
            "  inflating: dataset/train/segar/segar_original_20200517_084054.jpg_b5e2f703-2e01-42cb-af17-b1b41536b796.jpg  \n",
            "  inflating: dataset/train/segar/segar_original_20200517_084054.jpg_c2da1942-ae8e-40ad-bcda-03d13dc74fb4.jpg  \n",
            "  inflating: dataset/train/segar/segar_original_20200517_084054.jpg_f15b237f-3bb2-4f72-a2f9-0f1e4c8e5f4d.jpg  \n",
            "  inflating: dataset/train/segar/segar_original_20200517_084316.jpg_320ec034-618b-4c9d-bf53-97dae3050a5d.jpg  \n",
            "  inflating: dataset/train/segar/segar_original_20200517_084316.jpg_394dd36f-ebbf-4d3e-ab55-d0ac73867aee.jpg  \n",
            "  inflating: dataset/train/segar/segar_original_20200517_084316.jpg_5ada6b85-fefa-41d7-aabe-cc8a17ea031d.jpg  \n",
            "  inflating: dataset/train/segar/segar_original_20200517_084316.jpg_8a89486b-ec46-4a33-a8f6-99d9a03a64f5.jpg  \n",
            "  inflating: dataset/train/segar/segar_original_20200517_084316.jpg_94cfbe32-8223-4899-900c-0c3750c0e1aa.jpg  \n",
            "  inflating: dataset/train/segar/segar_original_20200517_084316.jpg_995ca226-0d7f-4f0c-9892-0336c39e5b1e.jpg  \n",
            "  inflating: dataset/train/segar/segar_original_20200517_084329.jpg_258fa983-6f5e-4621-9ab1-79eafad3a9da.jpg  \n",
            "  inflating: dataset/train/segar/segar_original_20200517_084329.jpg_4f7503d8-1f48-43c8-8dd8-ae9b3a73d277.jpg  \n",
            "  inflating: dataset/train/segar/segar_original_20200517_084329.jpg_8b4b230c-a1d5-4414-ba13-4d8ee45da2b6.jpg  \n",
            "  inflating: dataset/train/segar/segar_original_20200517_084329.jpg_921227b1-325c-4e07-ba74-9cdf4faedf03.jpg  \n",
            "  inflating: dataset/train/segar/segar_original_20200517_084329.jpg_e3f6db99-54d3-4e75-8260-4cfa4bb303c0.jpg  \n",
            "  inflating: dataset/train/segar/segar_original_20200517_084329.jpg_ec64cd40-87c0-4a13-9093-4a42b31c7ead.jpg  \n",
            "  inflating: dataset/train/segar/segar_original_20200517_084329.jpg_fb3960ea-fcc0-4502-b40b-80d8597206f4.jpg  \n",
            "  inflating: dataset/train/segar/segar_original_20200517_084357.jpg_09bae484-621d-4a5a-937a-6e44720a6135.jpg  \n",
            "  inflating: dataset/train/segar/segar_original_20200517_084357.jpg_09cc77d5-1553-45f8-bdbe-5c5b777db8fa.jpg  \n",
            "  inflating: dataset/train/segar/segar_original_20200517_084357.jpg_3b129da9-a1d1-43f9-9617-d8342b5b5d38.jpg  \n",
            "  inflating: dataset/train/segar/segar_original_20200517_084357.jpg_5dfada1c-aa90-404b-b263-6a7ccc6fc3bb.jpg  \n",
            "  inflating: dataset/train/segar/segar_original_20200517_084357.jpg_8766c150-91d1-492f-811c-954cbbf541b8.jpg  \n",
            "  inflating: dataset/train/segar/segar_original_20200517_084357.jpg_ae003eeb-2780-4c18-b359-944780c43326.jpg  \n",
            "  inflating: dataset/train/segar/segar_original_20200517_084357.jpg_ba2785a8-0161-4dfd-bfb4-ed3c2bca8368.jpg  \n",
            "  inflating: dataset/train/segar/segar_original_20200517_084411.jpg_0e7ad041-31e4-4a64-869d-65fcb73e5a5f.jpg  \n",
            "  inflating: dataset/train/segar/segar_original_20200517_084411.jpg_2c955d28-b324-4e08-8eb2-d9b4991bf7ae.jpg  \n",
            "  inflating: dataset/train/segar/segar_original_20200517_084411.jpg_3b307641-bb78-4067-b289-6990ac9ad3f7.jpg  \n",
            "  inflating: dataset/train/segar/segar_original_20200517_084411.jpg_662de48c-f9d9-441d-a851-937b8913ecd1.jpg  \n",
            "  inflating: dataset/train/segar/segar_original_20200517_084411.jpg_79b0450e-54ac-41e7-a4f4-f0d5541a7572.jpg  \n",
            "  inflating: dataset/train/segar/segar_original_20200517_084411.jpg_8ec9ab61-2d88-4706-bd51-225bb17e58fe.jpg  \n",
            "  inflating: dataset/train/segar/segar_original_20200517_084411.jpg_ab904dbe-6870-4301-b182-94c65d307b91.jpg  \n",
            "  inflating: dataset/train/segar/segar_original_20200517_084411.jpg_b06fe08d-eff6-44c0-9258-0939137353e7.jpg  \n",
            "  inflating: dataset/train/segar/segar_original_20200517_084411.jpg_be8f57cd-5ea2-41ee-ba41-9890984b4770.jpg  \n",
            "  inflating: dataset/train/segar/segar_original_20200517_084438.jpg_2ae84ff3-e598-4b3d-a308-552d98849d0d.jpg  \n",
            "  inflating: dataset/train/segar/segar_original_20200517_084438.jpg_98de1794-8353-4325-86d7-1ad8ef48d7a6.jpg  \n",
            "  inflating: dataset/train/segar/segar_original_20200517_084438.jpg_ac5fa289-7a30-4b09-a12a-dc7358510c71.jpg  \n",
            "  inflating: dataset/train/segar/segar_original_20200517_084438.jpg_d38620c5-44f7-4c91-b7ad-24bb64536aaf.jpg  \n",
            "  inflating: dataset/train/segar/segar_original_20200517_084438.jpg_dd77f963-9abc-4077-92eb-b27060cbc321.jpg  \n",
            "  inflating: dataset/train/segar/segar_original_20200517_084451.jpg_13de116d-c911-4fef-bfed-6934f467b4eb.jpg  \n",
            "  inflating: dataset/train/segar/segar_original_20200517_084451.jpg_449ac415-c2a9-4da2-b9be-c394eb85030a.jpg  \n",
            "  inflating: dataset/train/segar/segar_original_20200517_084451.jpg_53858e69-7e97-450d-865d-48b4a97725a2.jpg  \n",
            "  inflating: dataset/train/segar/segar_original_20200517_084451.jpg_6e12adac-7a6d-4ae0-a5b0-adf6039ff5c6.jpg  \n",
            "  inflating: dataset/train/segar/segar_original_20200517_084451.jpg_7a132f8d-b4d4-45c4-9981-a9828f3b9223.jpg  \n",
            "  inflating: dataset/train/segar/segar_original_20200517_084451.jpg_97286d13-7c74-4453-94c2-2b8f42429bc4.jpg  \n",
            "  inflating: dataset/train/segar/segar_original_20200517_084451.jpg_9aa6f45c-1de7-4470-8f34-c6d20cc94c73.jpg  \n",
            "  inflating: dataset/train/segar/segar_original_20200517_084451.jpg_9ef87104-1b8a-44e6-a80f-a53d059bae52.jpg  \n",
            "  inflating: dataset/train/segar/segar_original_20200517_084451.jpg_b2a39639-9776-4311-907b-3fed42374172.jpg  \n",
            "  inflating: dataset/train/segar/segar_original_20200517_084532.jpg_4977972c-eb46-4f59-bf3f-68a0eaf67648.jpg  \n",
            "  inflating: dataset/train/segar/segar_original_20200517_084532.jpg_7309f603-9e52-4e1e-a32e-b7dbf0b00793.jpg  \n",
            "  inflating: dataset/train/segar/segar_original_20200517_084532.jpg_a5eec605-d63b-454a-b4ac-e75ebc785256.jpg  \n",
            "  inflating: dataset/train/segar/segar_original_20200517_084532.jpg_d06132f7-4378-48f5-86b1-12acb8bd9768.jpg  \n",
            "  inflating: dataset/train/segar/segar_original_20200517_084549.jpg_06fa7b82-1d59-4f6f-8bce-f74876ad3684.jpg  \n",
            "  inflating: dataset/train/segar/segar_original_20200517_084549.jpg_4d46fe49-b19c-4064-93f5-7860f838e8f4.jpg  \n",
            "  inflating: dataset/train/segar/segar_original_20200517_084549.jpg_5675e495-d106-4c10-bbba-80d560190bac.jpg  \n",
            "  inflating: dataset/train/segar/segar_original_20200517_084549.jpg_c080b532-64f0-4eb5-8657-ca29effbdbb7.jpg  \n",
            "  inflating: dataset/train/segar/segar_original_20200517_084549.jpg_cb5413c4-4562-440a-ab34-c87611fb0e43.jpg  \n",
            "  inflating: dataset/train/segar/segar_original_20200517_084549.jpg_dbf9a861-9a95-4cb7-ab24-e15300e6164a.jpg  \n",
            "  inflating: dataset/train/segar/segar_original_20200517_084549.jpg_e409df05-9daf-46f3-9b5c-72b5ac28baf4.jpg  \n",
            "  inflating: dataset/train/segar/segar_original_20200517_084637.jpg_1b791087-5cfa-4635-97e0-19401804295a.jpg  \n",
            "  inflating: dataset/train/segar/segar_original_20200517_084637.jpg_6192ab2f-8a85-4fb2-86f7-b82ec2351d91.jpg  \n",
            "  inflating: dataset/train/segar/segar_original_20200517_084637.jpg_92c8a6f8-3b0d-4d96-8fcd-9b6dec8db1b9.jpg  \n",
            "  inflating: dataset/train/segar/segar_original_20200517_084637.jpg_de6c2ab7-cfe9-4048-adda-45f47ae08c3f.jpg  \n",
            "  inflating: dataset/train/segar/segar_original_20200517_084646.jpg_01628f2d-fc54-4940-8ca2-8dbf309aa186.jpg  \n",
            "  inflating: dataset/train/segar/segar_original_20200517_084646.jpg_37d36622-2bf4-4b8b-b1fb-5d191e09e1a4.jpg  \n",
            "  inflating: dataset/train/segar/segar_original_20200517_084646.jpg_503ebd18-49f5-40b1-b41d-a5bdf2f5f366.jpg  \n",
            "  inflating: dataset/train/segar/segar_original_20200517_084646.jpg_690d87d2-e79b-44ea-a822-f8025f5f8755.jpg  \n",
            "  inflating: dataset/train/segar/segar_original_20200517_084646.jpg_7575fa2a-8c1a-4220-b231-efd9d84bc04f.jpg  \n",
            "  inflating: dataset/train/segar/segar_original_20200517_084646.jpg_86f1cef2-df1f-425e-a4d3-8c91e4be6b15.jpg  \n",
            "  inflating: dataset/train/segar/segar_original_20200517_084646.jpg_9c8baae2-2176-43d9-bb73-2a790d6ed25c.jpg  \n",
            "  inflating: dataset/train/segar/segar_original_20200517_084646.jpg_a6786113-7f94-4ced-9b24-2bd2b27ffbf5.jpg  \n",
            "  inflating: dataset/train/segar/segar_original_20200517_084646.jpg_cb7164b1-5e22-4030-8b5a-0b43f2d57052.jpg  \n",
            "   creating: dataset/train/tidak_segar/\n",
            "  inflating: dataset/train/tidak_segar/tidak_segar_original_20200517_145200.jpg_0b584262-129d-40a0-8606-dd8f9f6ca1bb.jpg  \n",
            "  inflating: dataset/train/tidak_segar/tidak_segar_original_20200517_145200.jpg_7becc212-49a2-4d75-bda1-1e8d2b36b99d.jpg  \n",
            "  inflating: dataset/train/tidak_segar/tidak_segar_original_20200517_145200.jpg_7db01bd5-928e-4546-9df5-c525d2d55083.jpg  \n",
            "  inflating: dataset/train/tidak_segar/tidak_segar_original_20200517_145200.jpg_8a214624-8343-4a02-a010-3dd362367487.jpg  \n",
            "  inflating: dataset/train/tidak_segar/tidak_segar_original_20200517_145200.jpg_96cf8461-7577-4170-96fd-cfe5e125f65b.jpg  \n",
            "  inflating: dataset/train/tidak_segar/tidak_segar_original_20200517_145200.jpg_9db178b7-76ac-4374-9cc4-d1650052b029.jpg  \n",
            "  inflating: dataset/train/tidak_segar/tidak_segar_original_20200517_145200.jpg_9f98fd95-d69a-46af-929a-0d559ddec935.jpg  \n",
            "  inflating: dataset/train/tidak_segar/tidak_segar_original_20200517_145200.jpg_af9addf5-4457-4205-be61-f2b6ef08807b.jpg  \n",
            "  inflating: dataset/train/tidak_segar/tidak_segar_original_20200517_145200.jpg_bf950a99-532c-46f9-a143-1992de7c6766.jpg  \n",
            "  inflating: dataset/train/tidak_segar/tidak_segar_original_20200517_145200.jpg_de053745-53c0-49ee-9521-1821a6190a88.jpg  \n",
            "  inflating: dataset/train/tidak_segar/tidak_segar_original_20200517_145200.jpg_f413dd3f-4d6a-485c-8df8-d10388a57036.jpg  \n",
            "  inflating: dataset/train/tidak_segar/tidak_segar_original_20200517_145253.jpg_52a3455d-eec5-43c8-a436-55b2b1e09d59.jpg  \n",
            "  inflating: dataset/train/tidak_segar/tidak_segar_original_20200517_145253.jpg_5d6be64a-988f-4aa3-befd-577ddf4acdef.jpg  \n",
            "  inflating: dataset/train/tidak_segar/tidak_segar_original_20200517_145253.jpg_ca3a9d4e-64f3-4b8e-9976-16eb0fd74f0b.jpg  \n",
            "  inflating: dataset/train/tidak_segar/tidak_segar_original_20200517_145253.jpg_e72f854e-65b8-4d62-b795-947166ac3c76.jpg  \n",
            "  inflating: dataset/train/tidak_segar/tidak_segar_original_20200517_145351.jpg_3d493870-1f10-4320-8241-8c5a514dc299.jpg  \n",
            "  inflating: dataset/train/tidak_segar/tidak_segar_original_20200517_145351.jpg_4122b32e-414e-438d-b019-27966e9b13e0.jpg  \n",
            "  inflating: dataset/train/tidak_segar/tidak_segar_original_20200517_145351.jpg_9a5f5091-2bd3-4185-808b-b46d76727d42.jpg  \n",
            "  inflating: dataset/train/tidak_segar/tidak_segar_original_20200517_145351.jpg_9af751a8-2ddc-4a95-8432-e7a84e716dbd.jpg  \n",
            "  inflating: dataset/train/tidak_segar/tidak_segar_original_20200517_145351.jpg_9afd82bb-3210-4415-891e-db84c60f6f89.jpg  \n",
            "  inflating: dataset/train/tidak_segar/tidak_segar_original_20200517_145351.jpg_9ded0cb1-8a5a-46c4-92e8-9d0b853bc6eb.jpg  \n",
            "  inflating: dataset/train/tidak_segar/tidak_segar_original_20200517_145351.jpg_a15dd662-7a0b-4879-80c8-9da7cf5dca04.jpg  \n",
            "  inflating: dataset/train/tidak_segar/tidak_segar_original_20200517_145351.jpg_db765330-1ee3-4155-96b8-94c506682d85.jpg  \n",
            "  inflating: dataset/train/tidak_segar/tidak_segar_original_20200517_145351.jpg_dd435f50-ad55-40aa-af90-a98dd9a7af04.jpg  \n",
            "  inflating: dataset/train/tidak_segar/tidak_segar_original_20200517_145351.jpg_fb55298f-2f66-4034-a868-7f77e40c0e28.jpg  \n",
            "  inflating: dataset/train/tidak_segar/tidak_segar_original_20200517_145439.jpg_1d599b60-eb10-4207-b81d-4e46164ecf83.jpg  \n",
            "  inflating: dataset/train/tidak_segar/tidak_segar_original_20200517_145439.jpg_5af21ced-48de-428b-906d-a93ca721c4d8.jpg  \n",
            "  inflating: dataset/train/tidak_segar/tidak_segar_original_20200517_145439.jpg_5dd8525c-2faa-4c42-8686-df471843a4e1.jpg  \n",
            "  inflating: dataset/train/tidak_segar/tidak_segar_original_20200517_145439.jpg_7c8983e6-655a-44d8-a5db-88a8b3fa03d8.jpg  \n",
            "  inflating: dataset/train/tidak_segar/tidak_segar_original_20200517_145439.jpg_f357a5d5-ff1f-48ac-ab51-c018767da339.jpg  \n",
            "  inflating: dataset/train/tidak_segar/tidak_segar_original_20200517_145439.jpg_f8abfb96-e2a4-4a2c-a5e0-b42c69146ce5.jpg  \n",
            "  inflating: dataset/train/tidak_segar/tidak_segar_original_20200517_145502.jpg_370b4c5a-2ff5-4acb-bf17-a83c8304f8c9.jpg  \n",
            "  inflating: dataset/train/tidak_segar/tidak_segar_original_20200517_145502.jpg_40a063e0-12b2-43a3-bf9e-bb7e96c55a8f.jpg  \n",
            "  inflating: dataset/train/tidak_segar/tidak_segar_original_20200517_145502.jpg_b072304c-a3e0-44ba-aecc-2a7d690f2d50.jpg  \n",
            "  inflating: dataset/train/tidak_segar/tidak_segar_original_20200517_145520.jpg_22e02733-f589-4734-b047-dfa3f49a0427.jpg  \n",
            "  inflating: dataset/train/tidak_segar/tidak_segar_original_20200517_145520.jpg_4199c59d-d411-48a7-a09e-62be390ea2bf.jpg  \n",
            "  inflating: dataset/train/tidak_segar/tidak_segar_original_20200517_145520.jpg_65532b37-6593-4cf9-b1f9-27ea6ea73f6f.jpg  \n",
            "  inflating: dataset/train/tidak_segar/tidak_segar_original_20200517_145520.jpg_8a0a0b35-7466-436f-9be6-6e30e61ef8e1.jpg  \n",
            "  inflating: dataset/train/tidak_segar/tidak_segar_original_20200517_145520.jpg_922561a0-82c3-4771-8926-8f30c16f30be.jpg  \n",
            "  inflating: dataset/train/tidak_segar/tidak_segar_original_20200517_145520.jpg_acf2e2f4-7a86-4b90-affa-b8c100e892a2.jpg  \n",
            "  inflating: dataset/train/tidak_segar/tidak_segar_original_20200517_145520.jpg_c033b9b8-c37f-46a4-9273-89d9f5b8b550.jpg  \n",
            "  inflating: dataset/train/tidak_segar/tidak_segar_original_20200517_145520.jpg_c390fc77-9da7-4f70-a73d-f1624daf8b1c.jpg  \n",
            "  inflating: dataset/train/tidak_segar/tidak_segar_original_20200517_145554.jpg_2ce51da0-4761-4160-a89c-49405289b755.jpg  \n",
            "  inflating: dataset/train/tidak_segar/tidak_segar_original_20200517_145554.jpg_3063aae4-0bad-4da2-a7a3-7a395f0e5d5d.jpg  \n",
            "  inflating: dataset/train/tidak_segar/tidak_segar_original_20200517_145554.jpg_61ab4d3e-54ae-4f42-a657-ef3e1b6d8dc8.jpg  \n",
            "  inflating: dataset/train/tidak_segar/tidak_segar_original_20200517_145554.jpg_6ac70f08-7055-403d-9ff7-704a878da554.jpg  \n",
            "  inflating: dataset/train/tidak_segar/tidak_segar_original_20200517_145606.jpg_4e0f9470-2e7d-49cd-bf4b-d280700a7871.jpg  \n",
            "  inflating: dataset/train/tidak_segar/tidak_segar_original_20200517_145606.jpg_7ef031c2-3562-4e14-8f7d-882cdc9d781d.jpg  \n",
            "  inflating: dataset/train/tidak_segar/tidak_segar_original_20200517_145606.jpg_95fcad4a-0ed6-4115-a6e1-9439b7539baa.jpg  \n",
            "  inflating: dataset/train/tidak_segar/tidak_segar_original_20200517_145606.jpg_b81fa86a-7f1f-4460-81ee-6d23cef3490a.jpg  \n",
            "  inflating: dataset/train/tidak_segar/tidak_segar_original_20200517_145636.jpg_401b8d6b-fb2b-4524-bd1f-31e6684a3e78.jpg  \n",
            "  inflating: dataset/train/tidak_segar/tidak_segar_original_20200517_145636.jpg_4170b74d-7ade-4ecd-ba95-e4571250597a.jpg  \n",
            "  inflating: dataset/train/tidak_segar/tidak_segar_original_20200517_145636.jpg_58493425-afb5-4ef4-a1b5-adcadc9ecc79.jpg  \n",
            "  inflating: dataset/train/tidak_segar/tidak_segar_original_20200517_145636.jpg_6b5f45db-c6e2-4eb5-8f73-59e387896b5d.jpg  \n",
            "  inflating: dataset/train/tidak_segar/tidak_segar_original_20200517_145636.jpg_9b76df87-b24c-4e69-8f1d-52c73d21c1f9.jpg  \n",
            "  inflating: dataset/train/tidak_segar/tidak_segar_original_20200517_145636.jpg_d6b3984c-c4a5-4ec1-a273-bf3606f2bf75.jpg  \n",
            "  inflating: dataset/train/tidak_segar/tidak_segar_original_20200517_145636.jpg_d90b53ef-5bc7-4124-99bf-fab7000eec8d.jpg  \n",
            "  inflating: dataset/train/tidak_segar/tidak_segar_original_20200517_145636.jpg_f960bb09-4e66-41d6-82b4-46c85cf511c2.jpg  \n",
            "  inflating: dataset/train/tidak_segar/tidak_segar_original_20200517_145648.jpg_06fa94b6-e42c-4cc2-8528-947ef342b698.jpg  \n",
            "  inflating: dataset/train/tidak_segar/tidak_segar_original_20200517_145648.jpg_2bad1291-20d2-4e08-9167-c28a5e017897.jpg  \n",
            "  inflating: dataset/train/tidak_segar/tidak_segar_original_20200517_145648.jpg_5e90d68e-d7a0-41a1-8845-acd7595e6207.jpg  \n",
            "  inflating: dataset/train/tidak_segar/tidak_segar_original_20200517_145648.jpg_7c5df07e-ab2f-4755-b4e5-f459277153a5.jpg  \n",
            "  inflating: dataset/train/tidak_segar/tidak_segar_original_20200517_145648.jpg_fc90d941-c5cb-4c8d-bf84-d924e09dd7dd.jpg  \n",
            "  inflating: dataset/train/tidak_segar/tidak_segar_original_20200517_145715.jpg_0eb6d8c5-31bf-4481-bcdc-8d25c73439e3.jpg  \n",
            "  inflating: dataset/train/tidak_segar/tidak_segar_original_20200517_145715.jpg_2891c6fe-b858-479f-8855-14a4c7e2cd24.jpg  \n",
            "  inflating: dataset/train/tidak_segar/tidak_segar_original_20200517_145715.jpg_430ba291-634e-4221-aaea-74428a503724.jpg  \n",
            "  inflating: dataset/train/tidak_segar/tidak_segar_original_20200517_145715.jpg_52989f8b-b1e9-4f83-85bf-2c257b3830fd.jpg  \n",
            "  inflating: dataset/train/tidak_segar/tidak_segar_original_20200517_145715.jpg_a5d38169-9a93-460b-90b0-f61b21b05aaf.jpg  \n",
            "  inflating: dataset/train/tidak_segar/tidak_segar_original_20200517_145715.jpg_ba6428e6-6486-4cc7-956e-91fa32a97b5a.jpg  \n",
            "  inflating: dataset/train/tidak_segar/tidak_segar_original_20200517_145715.jpg_bfa924f3-48d9-4535-bcc6-0dcf5005bf67.jpg  \n",
            "  inflating: dataset/train/tidak_segar/tidak_segar_original_20200517_145715.jpg_d0faba9c-2bdf-49e0-a517-57a97c87d2fe.jpg  \n",
            "  inflating: dataset/train/tidak_segar/tidak_segar_original_20200517_145715.jpg_e6680ab9-f174-4f96-b1fe-6e3d0e55e809.jpg  \n",
            "  inflating: dataset/train/tidak_segar/tidak_segar_original_20200517_145715.jpg_f569ec38-ac1b-4334-88fa-cbfba291ca99.jpg  \n",
            "  inflating: dataset/train/tidak_segar/tidak_segar_original_20200517_145732.jpg_0176c1af-5e83-4df0-8229-ec8de5e0d0cb.jpg  \n",
            "  inflating: dataset/train/tidak_segar/tidak_segar_original_20200517_145732.jpg_3769f927-61bf-4250-bfc2-38b931ed999a.jpg  \n",
            "  inflating: dataset/train/tidak_segar/tidak_segar_original_20200517_145732.jpg_52b25003-f4e5-413d-ab35-13d65562fd87.jpg  \n",
            "  inflating: dataset/train/tidak_segar/tidak_segar_original_20200517_145732.jpg_ae2437ae-44f5-4aee-8ad4-2aa2f6c2d6bc.jpg  \n",
            "  inflating: dataset/train/tidak_segar/tidak_segar_original_20200517_145732.jpg_d53a9dca-c78f-4d6f-b8d4-b7bff80b63ed.jpg  \n",
            "  inflating: dataset/train/tidak_segar/tidak_segar_original_20200517_145732.jpg_ee13d928-d698-44ac-bd35-39bc7ca87e3e.jpg  \n",
            "  inflating: dataset/train/tidak_segar/tidak_segar_original_20200517_145732.jpg_f5cb98d7-d095-4c7f-83fd-59fdbb0a2ac4.jpg  \n",
            "   creating: dataset/val/\n",
            "   creating: dataset/val/segar/\n",
            "  inflating: dataset/val/segar/segar_original_20200517_084741.jpg_01bc1bfa-ed95-4abd-9cc9-140c5e9765d0.jpg  \n",
            "  inflating: dataset/val/segar/segar_original_20200517_084741.jpg_0c1a7a5a-8f4b-4e83-8968-c58968144ef4.jpg  \n",
            "  inflating: dataset/val/segar/segar_original_20200517_084741.jpg_0c6885ad-e2a8-4ce9-bc71-afbe01558a60.jpg  \n",
            "  inflating: dataset/val/segar/segar_original_20200517_084741.jpg_12879133-fcca-46f5-8c6e-782095e49a0b.jpg  \n",
            "  inflating: dataset/val/segar/segar_original_20200517_084741.jpg_12a90dc6-d23e-4b1e-8016-5101f93bf122.jpg  \n",
            "  inflating: dataset/val/segar/segar_original_20200517_084741.jpg_18931111-4ae6-43bd-a362-2e503ef292d5.jpg  \n",
            "  inflating: dataset/val/segar/segar_original_20200517_084741.jpg_1ac2b416-db00-4af8-86e4-3f873bce9b3a.jpg  \n",
            "  inflating: dataset/val/segar/segar_original_20200517_084741.jpg_1b752de9-2b71-4973-8ae6-afd51af1f443.jpg  \n",
            "  inflating: dataset/val/segar/segar_original_20200517_084741.jpg_3f8b02f9-0b56-46d2-ab4e-208abaa96769.jpg  \n",
            "  inflating: dataset/val/segar/segar_original_20200517_084741.jpg_4bcc301a-3c15-4ead-ad0d-e3aafaaa6eeb.jpg  \n",
            "  inflating: dataset/val/segar/segar_original_20200517_084741.jpg_52cf8415-a277-4c5d-bc0f-990f7cabd5bb.jpg  \n",
            "  inflating: dataset/val/segar/segar_original_20200517_084741.jpg_57c16824-430f-4ae6-b59f-795aaa534d03.jpg  \n",
            "  inflating: dataset/val/segar/segar_original_20200517_084741.jpg_5ec4823d-c167-4c8a-ac9e-5ae6332d329a.jpg  \n",
            "  inflating: dataset/val/segar/segar_original_20200517_084741.jpg_62a0a906-9b57-4760-8df4-62f97ef49542.jpg  \n",
            "  inflating: dataset/val/segar/segar_original_20200517_084741.jpg_756d6d52-40c9-46ff-b8bf-4febedfc1654.jpg  \n",
            "  inflating: dataset/val/segar/segar_original_20200517_084741.jpg_7bef2d97-17ac-43ba-9a7b-3d607cde831c.jpg  \n",
            "  inflating: dataset/val/segar/segar_original_20200517_084741.jpg_8952aeca-b107-4d8b-8988-ff2f2ea1eb76.jpg  \n",
            "  inflating: dataset/val/segar/segar_original_20200517_084741.jpg_99ce00f3-e243-4a78-bb9a-fb399be76642.jpg  \n",
            "  inflating: dataset/val/segar/segar_original_20200517_084741.jpg_b6b9dd0b-9f54-43a5-81eb-e83fa89ac9bd.jpg  \n",
            "  inflating: dataset/val/segar/segar_original_20200517_084741.jpg_b6f8c3a2-deba-4a06-bc9d-43aa83811d61.jpg  \n",
            "  inflating: dataset/val/segar/segar_original_20200517_084741.jpg_c4de7beb-c9c4-4aa1-9fc5-4ea78669baa2.jpg  \n",
            "  inflating: dataset/val/segar/segar_original_20200517_084741.jpg_da7a2f17-108f-478c-aab3-b33299089282.jpg  \n",
            "  inflating: dataset/val/segar/segar_original_20200517_084741.jpg_e18718eb-4143-44e8-ac2d-85edfe003545.jpg  \n",
            "  inflating: dataset/val/segar/segar_original_20200517_084741.jpg_f780d1fa-1981-4a46-80f0-a7afc7e95528.jpg  \n",
            "  inflating: dataset/val/segar/segar_original_20200517_084800.jpg_05e7db4d-bd78-45b1-a2fe-ee7aa2cdcb99.jpg  \n",
            "  inflating: dataset/val/segar/segar_original_20200517_084800.jpg_180b8014-b8bf-4390-98d4-be1d9fa9a1fa.jpg  \n",
            "  inflating: dataset/val/segar/segar_original_20200517_084800.jpg_1d097743-f5d7-406d-aaa2-d20376b0a725.jpg  \n",
            "  inflating: dataset/val/segar/segar_original_20200517_084800.jpg_2149b8e8-e83d-47d1-afd3-67ff3f4958ba.jpg  \n",
            "  inflating: dataset/val/segar/segar_original_20200517_084800.jpg_323f3c53-8ccc-4c1b-bc3e-3cd28a2026a5.jpg  \n",
            "  inflating: dataset/val/segar/segar_original_20200517_084800.jpg_3da35527-86e3-4bb4-8d64-d3790f94cf76.jpg  \n",
            "  inflating: dataset/val/segar/segar_original_20200517_084800.jpg_4d48ca11-e56d-49c5-9a78-0cf07ef9e03d.jpg  \n",
            "  inflating: dataset/val/segar/segar_original_20200517_084800.jpg_52d66013-151a-4b6f-aba1-6fa94aa68a7c.jpg  \n",
            "  inflating: dataset/val/segar/segar_original_20200517_084800.jpg_5eb3ded7-45aa-4c29-8876-08e581189ac1.jpg  \n",
            "  inflating: dataset/val/segar/segar_original_20200517_084800.jpg_5ed16cfe-a31d-4ede-ba0d-94aef3e4d106.jpg  \n",
            "  inflating: dataset/val/segar/segar_original_20200517_084800.jpg_6c1ef311-49bd-4e2a-88c6-75bb1b0252ac.jpg  \n",
            "  inflating: dataset/val/segar/segar_original_20200517_084800.jpg_712336c5-97ab-4bcb-a7b4-33bf3e459935.jpg  \n",
            "  inflating: dataset/val/segar/segar_original_20200517_084800.jpg_71edddd8-706c-4803-8b9f-4ed99a34c0eb.jpg  \n",
            "  inflating: dataset/val/segar/segar_original_20200517_084800.jpg_7922e786-2655-4b3a-8194-1775d1a4f629.jpg  \n",
            "  inflating: dataset/val/segar/segar_original_20200517_084800.jpg_911ad81f-1b59-4a46-a3dd-d1f7b3897fa8.jpg  \n",
            "  inflating: dataset/val/segar/segar_original_20200517_084800.jpg_97c7493e-d85b-454c-8a5a-7160d2c2d4df.jpg  \n",
            "  inflating: dataset/val/segar/segar_original_20200517_084800.jpg_9f0c9be1-49ba-435d-befa-4d7f1e3caaec.jpg  \n",
            "  inflating: dataset/val/segar/segar_original_20200517_084800.jpg_a2e96cb8-5654-427b-97f1-85c2cf281631.jpg  \n",
            "  inflating: dataset/val/segar/segar_original_20200517_084800.jpg_a354721a-3dff-4e93-a57c-f9bc1468273a.jpg  \n",
            "  inflating: dataset/val/segar/segar_original_20200517_084800.jpg_cd75d1e6-9264-470d-9519-ead9beff3226.jpg  \n",
            "  inflating: dataset/val/segar/segar_original_20200517_084800.jpg_dde45c68-0334-4854-b88a-8fa3c0bf3157.jpg  \n",
            "  inflating: dataset/val/segar/segar_original_20200517_084800.jpg_f840badf-e534-4e5d-a9d1-9b18fe8aecfb.jpg  \n",
            "  inflating: dataset/val/segar/segar_original_20200517_084906.jpg_0d346b51-439f-4565-ad86-be8aeef0039e.jpg  \n",
            "  inflating: dataset/val/segar/segar_original_20200517_084906.jpg_396ab4f4-3787-4cb5-8fa2-470f5374d56d.jpg  \n",
            "  inflating: dataset/val/segar/segar_original_20200517_084906.jpg_3b23d7eb-5e0a-4479-a9df-e995cdf7693a.jpg  \n",
            "  inflating: dataset/val/segar/segar_original_20200517_084906.jpg_5936a096-c71e-44cf-8037-daa19e521103.jpg  \n",
            "  inflating: dataset/val/segar/segar_original_20200517_084906.jpg_5b1bda20-c5f7-41dd-a774-0a8e8c667ebe.jpg  \n",
            "  inflating: dataset/val/segar/segar_original_20200517_084906.jpg_71ffa4f7-f8dc-4d02-b5d6-6b4c56c674a1.jpg  \n",
            "  inflating: dataset/val/segar/segar_original_20200517_084906.jpg_72c4e33e-d7fd-46a4-813e-04682acbdf18.jpg  \n",
            "  inflating: dataset/val/segar/segar_original_20200517_084906.jpg_8fa1b0e7-02ed-4583-bc8e-78f344b456df.jpg  \n",
            "  inflating: dataset/val/segar/segar_original_20200517_084906.jpg_9125b39c-6558-4d3e-bcfd-67cac9b83d5e.jpg  \n",
            "  inflating: dataset/val/segar/segar_original_20200517_084906.jpg_96826ce6-6242-45f6-b5e3-ece20fae65f4.jpg  \n",
            "  inflating: dataset/val/segar/segar_original_20200517_084906.jpg_bdabdc19-46f2-4fa6-a00d-c192aae6b94f.jpg  \n",
            "  inflating: dataset/val/segar/segar_original_20200517_084906.jpg_c1729673-f05a-43fe-b838-c4a0dc9a5203.jpg  \n",
            "  inflating: dataset/val/segar/segar_original_20200517_084906.jpg_d52fcfb5-111b-43e4-9478-2477b405ad7a.jpg  \n",
            "  inflating: dataset/val/segar/segar_original_20200517_084906.jpg_f8a91c6a-1218-4f18-9814-732b4bb9131b.jpg  \n",
            "  inflating: dataset/val/segar/segar_original_20200517_084906.jpg_fab2fdee-a65a-4533-ac3d-f3b079971476.jpg  \n",
            "  inflating: dataset/val/segar/segar_original_20200517_084906.jpg_ff5fc07d-b300-4964-895a-16f094944b1b.jpg  \n",
            "  inflating: dataset/val/segar/segar_original_20200517_084923.jpg_0ea130fc-e865-41ed-b6d5-5a6325ce3404.jpg  \n",
            "  inflating: dataset/val/segar/segar_original_20200517_084923.jpg_0f0922e6-8940-412a-a503-158e672ba495.jpg  \n",
            "  inflating: dataset/val/segar/segar_original_20200517_084923.jpg_1131eb7b-1927-4d4f-965e-99df254b99b3.jpg  \n",
            "  inflating: dataset/val/segar/segar_original_20200517_084923.jpg_130028f5-1394-4376-992e-35d26094c698.jpg  \n",
            "  inflating: dataset/val/segar/segar_original_20200517_084923.jpg_24ef731e-3115-4e62-9aeb-eea846c71903.jpg  \n",
            "  inflating: dataset/val/segar/segar_original_20200517_084923.jpg_645196dd-ecbc-44f4-99b4-d9110448d8c1.jpg  \n",
            "  inflating: dataset/val/segar/segar_original_20200517_084923.jpg_6b08f83d-f279-42f9-9f48-6703f1ce8849.jpg  \n",
            "  inflating: dataset/val/segar/segar_original_20200517_084923.jpg_72a97d8a-7e70-477f-b210-20a502c5e55f.jpg  \n",
            "  inflating: dataset/val/segar/segar_original_20200517_084923.jpg_72d9fdd8-d90b-46ce-9699-05219a9035e2.jpg  \n",
            "  inflating: dataset/val/segar/segar_original_20200517_084923.jpg_736dbc48-3998-42f6-944b-38844a1125a1.jpg  \n",
            "  inflating: dataset/val/segar/segar_original_20200517_084923.jpg_7d2f68c9-3ff8-4e9b-8d54-015ac2938b2e.jpg  \n",
            "  inflating: dataset/val/segar/segar_original_20200517_084923.jpg_93126893-252d-45c6-ae1d-bd12156ba152.jpg  \n",
            "  inflating: dataset/val/segar/segar_original_20200517_084923.jpg_956dde96-fbb1-40de-8a69-b1d3617b7767.jpg  \n",
            "  inflating: dataset/val/segar/segar_original_20200517_084923.jpg_a15d5e61-1118-4039-8ff6-129661ca972e.jpg  \n",
            "  inflating: dataset/val/segar/segar_original_20200517_084923.jpg_b97ade59-97a8-4f16-8e5a-686b5871cf9e.jpg  \n",
            "  inflating: dataset/val/segar/segar_original_20200517_084923.jpg_d0433737-c79c-47e6-9bf1-2db2682fb4ee.jpg  \n",
            "  inflating: dataset/val/segar/segar_original_20200517_084923.jpg_d7e92a32-f55c-4ab5-86c7-c3a991e147f6.jpg  \n",
            "  inflating: dataset/val/segar/segar_original_20200517_084923.jpg_efb55d30-5aaf-484e-a6af-ca86da843ad7.jpg  \n",
            "   creating: dataset/val/tidak_segar/\n",
            "  inflating: dataset/val/tidak_segar/tidak_segar_original_20200517_145754.jpg_0148592c-36dd-429e-9863-92a4f106de55.jpg  \n",
            "  inflating: dataset/val/tidak_segar/tidak_segar_original_20200517_145754.jpg_16e81009-af41-4c35-9fa0-b66cb1e6fbf4.jpg  \n",
            "  inflating: dataset/val/tidak_segar/tidak_segar_original_20200517_145754.jpg_18e3a944-2990-48cb-8321-97996de3b83e.jpg  \n",
            "  inflating: dataset/val/tidak_segar/tidak_segar_original_20200517_145754.jpg_22074251-2fc0-42f1-b51b-7c6fc705b73b.jpg  \n",
            "  inflating: dataset/val/tidak_segar/tidak_segar_original_20200517_145754.jpg_252ae9eb-6ce4-4d09-bce9-f7d4189bd1a7.jpg  \n",
            "  inflating: dataset/val/tidak_segar/tidak_segar_original_20200517_145754.jpg_2f3c340a-c2b1-4389-a0b0-c3d562480d49.jpg  \n",
            "  inflating: dataset/val/tidak_segar/tidak_segar_original_20200517_145754.jpg_33b2cf09-771f-4b8b-b69f-c8613552aeed.jpg  \n",
            "  inflating: dataset/val/tidak_segar/tidak_segar_original_20200517_145754.jpg_3aab468e-c646-459f-b2ab-6573ae2737e4.jpg  \n",
            "  inflating: dataset/val/tidak_segar/tidak_segar_original_20200517_145754.jpg_422e2771-1a47-43f9-bfec-1cbb7f20e80a.jpg  \n",
            "  inflating: dataset/val/tidak_segar/tidak_segar_original_20200517_145754.jpg_54df655d-7757-4dc0-a7e1-2533cfb88052.jpg  \n",
            "  inflating: dataset/val/tidak_segar/tidak_segar_original_20200517_145754.jpg_5bb77414-0dfd-4ede-9f03-66dc377b2f94.jpg  \n",
            "  inflating: dataset/val/tidak_segar/tidak_segar_original_20200517_145754.jpg_70a23619-4f63-4721-a04a-0addb2ffff9d.jpg  \n",
            "  inflating: dataset/val/tidak_segar/tidak_segar_original_20200517_145754.jpg_748b16ae-67ea-4ade-a7bd-2a626cd7a429.jpg  \n",
            "  inflating: dataset/val/tidak_segar/tidak_segar_original_20200517_145754.jpg_7fc794c8-b0c1-43ef-a555-9c498ed28314.jpg  \n",
            "  inflating: dataset/val/tidak_segar/tidak_segar_original_20200517_145754.jpg_814c083b-844f-4864-8e7d-c1e98ef908cc.jpg  \n",
            "  inflating: dataset/val/tidak_segar/tidak_segar_original_20200517_145754.jpg_96af3646-be50-4686-8a5a-b49ef9e486f1.jpg  \n",
            "  inflating: dataset/val/tidak_segar/tidak_segar_original_20200517_145754.jpg_9e2b5fd4-aafd-4821-8107-8ee0e1246a55.jpg  \n",
            "  inflating: dataset/val/tidak_segar/tidak_segar_original_20200517_145754.jpg_bf473929-2a6b-4112-a490-d4d9ea7cbccc.jpg  \n",
            "  inflating: dataset/val/tidak_segar/tidak_segar_original_20200517_145754.jpg_c7b27902-c8cc-46b1-bf37-269632afff35.jpg  \n",
            "  inflating: dataset/val/tidak_segar/tidak_segar_original_20200517_145754.jpg_e79a17b3-2bc0-445b-bb72-163efd70e565.jpg  \n",
            "  inflating: dataset/val/tidak_segar/tidak_segar_original_20200517_145754.jpg_ebd38fc2-7cfe-4c51-b0b1-39b814f8d48a.jpg  \n",
            "  inflating: dataset/val/tidak_segar/tidak_segar_original_20200517_145754.jpg_eebca8b9-88ba-457b-b302-c98b249fb3c2.jpg  \n",
            "  inflating: dataset/val/tidak_segar/tidak_segar_original_20200517_145805.jpg_026898e6-a5c5-48b6-b703-1e39eacbb003.jpg  \n",
            "  inflating: dataset/val/tidak_segar/tidak_segar_original_20200517_145805.jpg_092b825d-d2f6-47fd-92ef-ea93d1ecc01b.jpg  \n",
            "  inflating: dataset/val/tidak_segar/tidak_segar_original_20200517_145805.jpg_0ea9d9c2-160c-4a91-8806-8590e34b8704.jpg  \n",
            "  inflating: dataset/val/tidak_segar/tidak_segar_original_20200517_145805.jpg_1092046e-216b-46d4-a314-4a820760dfee.jpg  \n",
            "  inflating: dataset/val/tidak_segar/tidak_segar_original_20200517_145805.jpg_1cc63657-0418-4053-aa9e-6fa195b2bf4e.jpg  \n",
            "  inflating: dataset/val/tidak_segar/tidak_segar_original_20200517_145805.jpg_2d13fb42-e0cf-452e-a98c-27b3590677ef.jpg  \n",
            "  inflating: dataset/val/tidak_segar/tidak_segar_original_20200517_145805.jpg_46aee06b-4d78-4a42-bbbc-d5e771fcf16e.jpg  \n",
            "  inflating: dataset/val/tidak_segar/tidak_segar_original_20200517_145805.jpg_473d6274-b38a-48b8-8b8b-e064fdf9e52a.jpg  \n",
            "  inflating: dataset/val/tidak_segar/tidak_segar_original_20200517_145805.jpg_4c770a66-c76e-4122-869f-7b5d6f685f89.jpg  \n",
            "  inflating: dataset/val/tidak_segar/tidak_segar_original_20200517_145805.jpg_4c9cf181-1108-4b2e-a50d-a546076af0ef.jpg  \n",
            "  inflating: dataset/val/tidak_segar/tidak_segar_original_20200517_145805.jpg_4e471638-e6e9-4a62-9ab6-422e3960f647.jpg  \n",
            "  inflating: dataset/val/tidak_segar/tidak_segar_original_20200517_145805.jpg_5bd377bd-8145-4ff0-8d6d-737b514ea3bb.jpg  \n",
            "  inflating: dataset/val/tidak_segar/tidak_segar_original_20200517_145805.jpg_62001ec5-2e4a-4cb3-8161-6d10f5a5e113.jpg  \n",
            "  inflating: dataset/val/tidak_segar/tidak_segar_original_20200517_145805.jpg_65e68330-3cf2-42ca-966c-1fc5c6a54d77.jpg  \n",
            "  inflating: dataset/val/tidak_segar/tidak_segar_original_20200517_145805.jpg_70d5c053-51e8-43d5-8adf-074c64c07b79.jpg  \n",
            "  inflating: dataset/val/tidak_segar/tidak_segar_original_20200517_145805.jpg_82bcd10e-15ae-4034-b55c-389713fa4177.jpg  \n",
            "  inflating: dataset/val/tidak_segar/tidak_segar_original_20200517_145805.jpg_8a1ebc85-9078-464e-a1c5-3208a072217d.jpg  \n",
            "  inflating: dataset/val/tidak_segar/tidak_segar_original_20200517_145805.jpg_da412c06-2ade-4c38-9ed0-7e89ccb886f9.jpg  \n",
            "  inflating: dataset/val/tidak_segar/tidak_segar_original_20200517_145805.jpg_e25672af-11da-4dcf-8a1e-1b4b36687873.jpg  \n",
            "  inflating: dataset/val/tidak_segar/tidak_segar_original_20200517_145805.jpg_e282e0ff-947a-4e3d-afb3-9019844740d1.jpg  \n",
            "  inflating: dataset/val/tidak_segar/tidak_segar_original_20200517_145826.jpg_11a0b943-fc36-452e-b2a6-bf272a172495.jpg  \n",
            "  inflating: dataset/val/tidak_segar/tidak_segar_original_20200517_145826.jpg_1a1e704f-4a86-4bb7-b873-0ddeb2576375.jpg  \n",
            "  inflating: dataset/val/tidak_segar/tidak_segar_original_20200517_145826.jpg_268582fc-b2ba-43eb-b07c-2f2634d612b8.jpg  \n",
            "  inflating: dataset/val/tidak_segar/tidak_segar_original_20200517_145826.jpg_32cfd4ca-d022-4516-824f-05f999633b25.jpg  \n",
            "  inflating: dataset/val/tidak_segar/tidak_segar_original_20200517_145826.jpg_5c4ed913-fe0e-4112-ba54-37ae66485e9f.jpg  \n",
            "  inflating: dataset/val/tidak_segar/tidak_segar_original_20200517_145826.jpg_85c23626-abfd-45b4-be52-38b7c2dec0d7.jpg  \n",
            "  inflating: dataset/val/tidak_segar/tidak_segar_original_20200517_145826.jpg_9a0f58e2-3c3a-480b-bb71-4003b3f9762e.jpg  \n",
            "  inflating: dataset/val/tidak_segar/tidak_segar_original_20200517_145826.jpg_a0bbaf7e-2113-417b-8db1-2fc7434356db.jpg  \n",
            "  inflating: dataset/val/tidak_segar/tidak_segar_original_20200517_145826.jpg_acb7befd-4070-4045-8abc-c105ae806b96.jpg  \n",
            "  inflating: dataset/val/tidak_segar/tidak_segar_original_20200517_145826.jpg_c459d50c-5704-4055-9b21-7bd99f55de96.jpg  \n",
            "  inflating: dataset/val/tidak_segar/tidak_segar_original_20200517_145826.jpg_c550b35a-3e12-431f-9f52-74934e0b3ecb.jpg  \n",
            "  inflating: dataset/val/tidak_segar/tidak_segar_original_20200517_145826.jpg_c8c38cc2-d089-4a89-a78e-ce4dc0c0fb3e.jpg  \n",
            "  inflating: dataset/val/tidak_segar/tidak_segar_original_20200517_145826.jpg_d8ce9861-bc54-482c-836d-d842e20f3b74.jpg  \n",
            "  inflating: dataset/val/tidak_segar/tidak_segar_original_20200517_145826.jpg_f0db1618-96b3-43a1-ada4-3013274211b6.jpg  \n",
            "  inflating: dataset/val/tidak_segar/tidak_segar_original_20200517_145826.jpg_f1d50eef-1ee7-4734-85a3-1839ea22217c.jpg  \n",
            "  inflating: dataset/val/tidak_segar/tidak_segar_original_20200517_145826.jpg_fffbf78c-f515-4dea-b1cd-e189ce30c425.jpg  \n",
            "  inflating: dataset/val/tidak_segar/tidak_segar_original_20200517_145834.jpg_00cea509-f534-4655-b301-7bdb185afd94.jpg  \n",
            "  inflating: dataset/val/tidak_segar/tidak_segar_original_20200517_145834.jpg_0951b6d6-6c13-4995-8c62-3b0d9c7dfa31.jpg  \n",
            "  inflating: dataset/val/tidak_segar/tidak_segar_original_20200517_145834.jpg_1c87df4c-0e8c-49b4-8d1c-ee32b5a35fab.jpg  \n",
            "  inflating: dataset/val/tidak_segar/tidak_segar_original_20200517_145834.jpg_3387164e-a3e2-4969-971f-6167a93a1b2a.jpg  \n",
            "  inflating: dataset/val/tidak_segar/tidak_segar_original_20200517_145834.jpg_5d9d8b09-2480-49da-bef4-ddfd70ac9384.jpg  \n",
            "  inflating: dataset/val/tidak_segar/tidak_segar_original_20200517_145834.jpg_64d3da97-a3ae-48e8-96eb-b073ca974a93.jpg  \n",
            "  inflating: dataset/val/tidak_segar/tidak_segar_original_20200517_145834.jpg_6d0a3fa2-5c8e-4eff-bcf5-74567a6903e2.jpg  \n",
            "  inflating: dataset/val/tidak_segar/tidak_segar_original_20200517_145834.jpg_6f66e3c0-3c05-494f-9634-240af3530a3a.jpg  \n",
            "  inflating: dataset/val/tidak_segar/tidak_segar_original_20200517_145834.jpg_7364666a-4124-468d-a48f-afd5127a44c8.jpg  \n",
            "  inflating: dataset/val/tidak_segar/tidak_segar_original_20200517_145834.jpg_746d32ba-e930-4294-b13f-47820833adef.jpg  \n",
            "  inflating: dataset/val/tidak_segar/tidak_segar_original_20200517_145834.jpg_7fddbea8-5568-4c25-941c-6451db48bd44.jpg  \n",
            "  inflating: dataset/val/tidak_segar/tidak_segar_original_20200517_145834.jpg_8098378d-40cf-4fe0-a56a-b6285723bb01.jpg  \n",
            "  inflating: dataset/val/tidak_segar/tidak_segar_original_20200517_145834.jpg_8c2c8a5c-5909-4abd-bdd3-cafd74e04aa1.jpg  \n",
            "  inflating: dataset/val/tidak_segar/tidak_segar_original_20200517_145834.jpg_9f828f2c-ca4b-46dc-8343-4b7f27907464.jpg  \n",
            "  inflating: dataset/val/tidak_segar/tidak_segar_original_20200517_145834.jpg_ae1eceba-39c6-4a1b-ac3b-0ffc235587b1.jpg  \n",
            "  inflating: dataset/val/tidak_segar/tidak_segar_original_20200517_145834.jpg_bd6991d0-37a6-4ebe-8ba8-487b2cfa7386.jpg  \n",
            "  inflating: dataset/val/tidak_segar/tidak_segar_original_20200517_145834.jpg_c3dbd423-6afa-406e-bdde-61ba3bd03a6b.jpg  \n",
            "  inflating: dataset/val/tidak_segar/tidak_segar_original_20200517_145834.jpg_cf7e21ca-1946-470e-8068-f0707df5b688.jpg  \n",
            "  inflating: dataset/val/tidak_segar/tidak_segar_original_20200517_145834.jpg_d0dd76f5-c863-496f-ac0b-5931e4b0e77c.jpg  \n",
            "  inflating: dataset/val/tidak_segar/tidak_segar_original_20200517_145834.jpg_d19cedcd-318a-49df-9454-352c92b81677.jpg  \n",
            "  inflating: dataset/val/tidak_segar/tidak_segar_original_20200517_145834.jpg_e8fcb6ab-8ef7-4303-96c5-36ac3271fe19.jpg  \n",
            "  inflating: dataset/val/tidak_segar/tidak_segar_original_20200517_145834.jpg_ec04ac85-46dc-46f3-aa6b-8bc0c0eb2279.jpg  \n"
          ],
          "name": "stdout"
        }
      ]
    },
    {
      "cell_type": "markdown",
      "metadata": {
        "id": "kkvQK9Vt_u6Y"
      },
      "source": [
        "# **Import Libraries**"
      ]
    },
    {
      "cell_type": "code",
      "metadata": {
        "id": "3l9SQnuSqwbO"
      },
      "source": [
        "import os\n",
        "from keras.models import Sequential\n",
        "from keras.layers import Conv2D, MaxPooling2D, Flatten, Dense, Activation\n",
        "from keras.preprocessing.image import ImageDataGenerator\n",
        "from keras.metrics import categorical_accuracy\n",
        "from tensorflow.keras.preprocessing.image import ImageDataGenerator"
      ],
      "execution_count": null,
      "outputs": []
    },
    {
      "cell_type": "markdown",
      "metadata": {
        "id": "5sI5uUmO_30E"
      },
      "source": [
        "# **Define Directory**"
      ]
    },
    {
      "cell_type": "code",
      "metadata": {
        "id": "FK3e_5LiqTiy"
      },
      "source": [
        "size = 64\n",
        "base_dir = '/content/dataset/'\n",
        "train_dir = os.path.join(base_dir, 'train')\n",
        "val_dir = os.path.join(base_dir, 'val')"
      ],
      "execution_count": null,
      "outputs": []
    },
    {
      "cell_type": "code",
      "metadata": {
        "id": "MqUZQS7AqU18",
        "colab": {
          "base_uri": "https://localhost:8080/",
          "height": 51
        },
        "outputId": "5b707d46-4805-4570-81bd-cf4b86f3bf90"
      },
      "source": [
        "print (\"content of train foder:\")\n",
        "os.listdir(train_dir)"
      ],
      "execution_count": null,
      "outputs": [
        {
          "output_type": "stream",
          "text": [
            "content of train foder:\n"
          ],
          "name": "stdout"
        },
        {
          "output_type": "execute_result",
          "data": {
            "text/plain": [
              "['segar', 'tidak_segar']"
            ]
          },
          "metadata": {
            "tags": []
          },
          "execution_count": 50
        }
      ]
    },
    {
      "cell_type": "code",
      "metadata": {
        "id": "sI9coJudqWio",
        "colab": {
          "base_uri": "https://localhost:8080/",
          "height": 51
        },
        "outputId": "32d9aec1-de29-47e3-9324-5f307fe778e2"
      },
      "source": [
        "print (\"content of val foder:\")\n",
        "os.listdir(val_dir)"
      ],
      "execution_count": null,
      "outputs": [
        {
          "output_type": "stream",
          "text": [
            "content of val foder:\n"
          ],
          "name": "stdout"
        },
        {
          "output_type": "execute_result",
          "data": {
            "text/plain": [
              "['segar', 'tidak_segar']"
            ]
          },
          "metadata": {
            "tags": []
          },
          "execution_count": 51
        }
      ]
    },
    {
      "cell_type": "markdown",
      "metadata": {
        "id": "U-qUtfyN_-Pw"
      },
      "source": [
        "# **Image Augmentation**"
      ]
    },
    {
      "cell_type": "code",
      "metadata": {
        "id": "UzcsBAzXqXqr",
        "colab": {
          "base_uri": "https://localhost:8080/",
          "height": 51
        },
        "outputId": "043d8456-2efd-4c1a-9580-0a84632f3c4c"
      },
      "source": [
        "train = ImageDataGenerator(rescale = 1./255)\n",
        "test = ImageDataGenerator(rescale = 1./255)\n",
        "train_data = train.flow_from_directory(\n",
        "    train_dir,\n",
        "    target_size = (size, size),\n",
        "    batch_size = 4,\n",
        "    class_mode = 'binary')\n",
        "test_data = test.flow_from_directory(\n",
        "    val_dir,\n",
        "    target_size = (size, size),\n",
        "    batch_size = 4,\n",
        "    class_mode = 'binary')"
      ],
      "execution_count": null,
      "outputs": [
        {
          "output_type": "stream",
          "text": [
            "Found 160 images belonging to 2 classes.\n",
            "Found 160 images belonging to 2 classes.\n"
          ],
          "name": "stdout"
        }
      ]
    },
    {
      "cell_type": "markdown",
      "metadata": {
        "id": "PkKrpvy9AD5S"
      },
      "source": [
        "# **Define CNN Model**"
      ]
    },
    {
      "cell_type": "code",
      "metadata": {
        "id": "k31Gp9j_qZLA"
      },
      "source": [
        "model = Sequential()\n",
        "\n",
        "model.add(Conv2D(4, (3, 3), input_shape = (size, size, 3), activation = 'relu'))\n",
        "model.add(MaxPooling2D(pool_size = (2, 2)))\n",
        "model.add(Flatten())\n",
        "\n",
        "model.add(Dense(units = 8, activation = 'relu'))\n",
        "model.add(Dense(units = 1, activation = 'sigmoid'))"
      ],
      "execution_count": null,
      "outputs": []
    },
    {
      "cell_type": "code",
      "metadata": {
        "id": "d2UGJbJmB4El",
        "colab": {
          "base_uri": "https://localhost:8080/",
          "height": 323
        },
        "outputId": "df9c3ec7-bcf2-45ba-e9cd-8d494a6552b0"
      },
      "source": [
        "model.summary()"
      ],
      "execution_count": null,
      "outputs": [
        {
          "output_type": "stream",
          "text": [
            "Model: \"sequential_2\"\n",
            "_________________________________________________________________\n",
            "Layer (type)                 Output Shape              Param #   \n",
            "=================================================================\n",
            "conv2d_1 (Conv2D)            (None, 62, 62, 4)         112       \n",
            "_________________________________________________________________\n",
            "max_pooling2d_1 (MaxPooling2 (None, 31, 31, 4)         0         \n",
            "_________________________________________________________________\n",
            "flatten_1 (Flatten)          (None, 3844)              0         \n",
            "_________________________________________________________________\n",
            "dense_1 (Dense)              (None, 8)                 30760     \n",
            "_________________________________________________________________\n",
            "dense_2 (Dense)              (None, 1)                 9         \n",
            "=================================================================\n",
            "Total params: 30,881\n",
            "Trainable params: 30,881\n",
            "Non-trainable params: 0\n",
            "_________________________________________________________________\n"
          ],
          "name": "stdout"
        }
      ]
    },
    {
      "cell_type": "markdown",
      "metadata": {
        "id": "hduCxLlEAObK"
      },
      "source": [
        "# **Run The Model**"
      ]
    },
    {
      "cell_type": "code",
      "metadata": {
        "id": "lBf3oo3zqaLg"
      },
      "source": [
        "model.compile(\n",
        "    optimizer = 'adam',\n",
        "    loss = 'binary_crossentropy',\n",
        "    metrics = ['binary_accuracy'])"
      ],
      "execution_count": null,
      "outputs": []
    },
    {
      "cell_type": "code",
      "metadata": {
        "id": "8_RHKezdqbNE",
        "colab": {
          "base_uri": "https://localhost:8080/",
          "height": 734
        },
        "outputId": "5f3826e4-0c2c-40e1-e0d2-9c94e214511b"
      },
      "source": [
        "model.fit_generator(\n",
        "    train_data,\n",
        "    steps_per_epoch = 160,\n",
        "    epochs = 20,\n",
        "    validation_data = test_data,\n",
        "    validation_steps = 160)"
      ],
      "execution_count": null,
      "outputs": [
        {
          "output_type": "stream",
          "text": [
            "Epoch 1/20\n",
            "160/160 [==============================] - 8s 49ms/step - loss: 0.4509 - binary_accuracy: 0.8125 - val_loss: 0.2275 - val_binary_accuracy: 0.6313\n",
            "Epoch 2/20\n",
            "160/160 [==============================] - 7s 47ms/step - loss: 0.3126 - binary_accuracy: 0.9922 - val_loss: 0.3557 - val_binary_accuracy: 0.9750\n",
            "Epoch 3/20\n",
            "160/160 [==============================] - 7s 47ms/step - loss: 0.2773 - binary_accuracy: 0.9984 - val_loss: 0.6149 - val_binary_accuracy: 0.7437\n",
            "Epoch 4/20\n",
            "160/160 [==============================] - 7s 46ms/step - loss: 0.2493 - binary_accuracy: 1.0000 - val_loss: 0.3710 - val_binary_accuracy: 0.7875\n",
            "Epoch 5/20\n",
            "160/160 [==============================] - 7s 47ms/step - loss: 0.2253 - binary_accuracy: 1.0000 - val_loss: 0.3505 - val_binary_accuracy: 0.9125\n",
            "Epoch 6/20\n",
            "160/160 [==============================] - 8s 48ms/step - loss: 0.2056 - binary_accuracy: 0.9984 - val_loss: 0.1305 - val_binary_accuracy: 0.9750\n",
            "Epoch 7/20\n",
            "160/160 [==============================] - 8s 48ms/step - loss: 0.1846 - binary_accuracy: 1.0000 - val_loss: 0.1806 - val_binary_accuracy: 0.9500\n",
            "Epoch 8/20\n",
            "160/160 [==============================] - 8s 47ms/step - loss: 0.1673 - binary_accuracy: 1.0000 - val_loss: 0.2392 - val_binary_accuracy: 0.9125\n",
            "Epoch 9/20\n",
            "160/160 [==============================] - 8s 47ms/step - loss: 0.1525 - binary_accuracy: 1.0000 - val_loss: 0.2502 - val_binary_accuracy: 0.9062\n",
            "Epoch 10/20\n",
            "160/160 [==============================] - 7s 47ms/step - loss: 0.1392 - binary_accuracy: 1.0000 - val_loss: 0.2053 - val_binary_accuracy: 0.9187\n",
            "Epoch 11/20\n",
            "160/160 [==============================] - 8s 48ms/step - loss: 0.1268 - binary_accuracy: 1.0000 - val_loss: 0.0617 - val_binary_accuracy: 0.9250\n",
            "Epoch 12/20\n",
            "160/160 [==============================] - 8s 48ms/step - loss: 0.1160 - binary_accuracy: 1.0000 - val_loss: 0.2556 - val_binary_accuracy: 0.9250\n",
            "Epoch 13/20\n",
            "160/160 [==============================] - 8s 48ms/step - loss: 0.1063 - binary_accuracy: 1.0000 - val_loss: 0.0539 - val_binary_accuracy: 0.9125\n",
            "Epoch 14/20\n",
            "160/160 [==============================] - 8s 48ms/step - loss: 0.0976 - binary_accuracy: 1.0000 - val_loss: 0.0473 - val_binary_accuracy: 0.8062\n",
            "Epoch 15/20\n",
            "160/160 [==============================] - 8s 48ms/step - loss: 0.0897 - binary_accuracy: 1.0000 - val_loss: 0.1412 - val_binary_accuracy: 0.9688\n",
            "Epoch 16/20\n",
            "160/160 [==============================] - 8s 48ms/step - loss: 0.0824 - binary_accuracy: 1.0000 - val_loss: 0.1410 - val_binary_accuracy: 0.9438\n",
            "Epoch 17/20\n",
            "160/160 [==============================] - 8s 48ms/step - loss: 0.0761 - binary_accuracy: 1.0000 - val_loss: 0.0364 - val_binary_accuracy: 0.9750\n",
            "Epoch 18/20\n",
            "160/160 [==============================] - 8s 48ms/step - loss: 0.0701 - binary_accuracy: 1.0000 - val_loss: 0.1011 - val_binary_accuracy: 0.9750\n",
            "Epoch 19/20\n",
            "160/160 [==============================] - 8s 47ms/step - loss: 0.0647 - binary_accuracy: 1.0000 - val_loss: 0.5987 - val_binary_accuracy: 0.9812\n",
            "Epoch 20/20\n",
            "160/160 [==============================] - 8s 48ms/step - loss: 0.0599 - binary_accuracy: 1.0000 - val_loss: 0.0827 - val_binary_accuracy: 0.9750\n"
          ],
          "name": "stdout"
        },
        {
          "output_type": "execute_result",
          "data": {
            "text/plain": [
              "<keras.callbacks.callbacks.History at 0x7fdce246aeb8>"
            ]
          },
          "metadata": {
            "tags": []
          },
          "execution_count": 55
        }
      ]
    },
    {
      "cell_type": "markdown",
      "metadata": {
        "id": "inL0AL-TAVV2"
      },
      "source": [
        "# **Predict Image**"
      ]
    },
    {
      "cell_type": "code",
      "metadata": {
        "id": "l6dvCw-Rqc9m",
        "colab": {
          "base_uri": "https://localhost:8080/",
          "height": 34
        },
        "outputId": "f5f2bf05-6c5b-4f94-93b1-2e5246bce069"
      },
      "source": [
        "def switch_dict_key_values(this_dict):\n",
        "    return dict((v,k) for k,v in this_dict.items())\n",
        "\n",
        "nama_train_data = switch_dict_key_values(train_data.class_indices)\n",
        "print(nama_train_data)"
      ],
      "execution_count": null,
      "outputs": [
        {
          "output_type": "stream",
          "text": [
            "{0: 'segar', 1: 'tidak_segar'}\n"
          ],
          "name": "stdout"
        }
      ]
    },
    {
      "cell_type": "code",
      "metadata": {
        "id": "m4uQCAFnqeBD",
        "colab": {
          "resources": {
            "http://localhost:8080/nbextensions/google.colab/files.js": {
              "data": "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",
              "ok": true,
              "headers": [
                [
                  "content-type",
                  "application/javascript"
                ]
              ],
              "status": 200,
              "status_text": ""
            }
          },
          "base_uri": "https://localhost:8080/",
          "height": 250
        },
        "outputId": "a40f39e3-c553-4d00-efbd-54a62c38ec6c"
      },
      "source": [
        "import numpy as np\n",
        "from google.colab import files\n",
        "from keras.preprocessing import image\n",
        "import matplotlib.pyplot as plt\n",
        "import matplotlib.image as mpimg\n",
        "import matplotlib.pyplot as plt\n",
        "import matplotlib.image as mpimg\n",
        "%matplotlib inline\n",
        " \n",
        "uploaded = files.upload()\n",
        " \n",
        "for fn in uploaded.keys():\n",
        " \n",
        "  # predicting images\n",
        "  path = fn\n",
        "\n",
        "  def tampilkan_(ini):\n",
        "    fig = plt.figure(figsize=(2, 2))\n",
        "    img = plt.imread(ini)\n",
        "    plt.imshow(img)\n",
        "    plt.show()\n",
        "\n",
        "  tampilkan_(path)\n",
        "  img = image.load_img(path, target_size = (size, size))\n",
        "  img = image.img_to_array(img)\n",
        "  img = np.expand_dims(img, axis = 0)\n",
        "\n",
        "  hasil = model.predict_classes(img)\n",
        "  \n",
        "  print(fn)\n",
        "  if hasil==0:\n",
        "    jenis = \"segar\"\n",
        "  else:\n",
        "    jenis = \"tidak segar\"\n",
        "\n",
        "  print(\"Predicted as \", hasil, \"labeled as \",jenis)"
      ],
      "execution_count": null,
      "outputs": [
        {
          "output_type": "display_data",
          "data": {
            "text/html": [
              "\n",
              "     <input type=\"file\" id=\"files-7eb871c1-7020-47b7-9a5e-615bfcf77141\" name=\"files[]\" multiple disabled\n",
              "        style=\"border:none\" />\n",
              "     <output id=\"result-7eb871c1-7020-47b7-9a5e-615bfcf77141\">\n",
              "      Upload widget is only available when the cell has been executed in the\n",
              "      current browser session. Please rerun this cell to enable.\n",
              "      </output>\n",
              "      <script src=\"/nbextensions/google.colab/files.js\"></script> "
            ],
            "text/plain": [
              "<IPython.core.display.HTML object>"
            ]
          },
          "metadata": {
            "tags": []
          }
        },
        {
          "output_type": "stream",
          "text": [
            "Saving 20200517_145944 (tidak segar).jpg to 20200517_145944 (tidak segar).jpg\n"
          ],
          "name": "stdout"
        },
        {
          "output_type": "display_data",
          "data": {
            "image/png": "[encoded data removed]",
            "text/plain": [
              "<Figure size 144x144 with 1 Axes>"
            ]
          },
          "metadata": {
            "tags": [],
            "needs_background": "light"
          }
        },
        {
          "output_type": "stream",
          "text": [
            "20200517_145944 (tidak segar).jpg\n",
            "Predicted as  [[1]] labeled as  tidak segar\n"
          ],
          "name": "stdout"
        }
      ]
    }
  ]
}